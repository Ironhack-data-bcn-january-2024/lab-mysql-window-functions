{
 "cells": [
  {
   "cell_type": "markdown",
   "id": "6b1fed37",
   "metadata": {},
   "source": [
    "### 1. Calculate the average rental duration (in days) for each film:"
   ]
  },
  {
   "cell_type": "markdown",
   "id": "e40f5124",
   "metadata": {},
   "source": [
    "```sql\n",
    "-- Your code down below\n",
    "SELECT...\n",
    "```"
   ]
  },
  {
   "cell_type": "code",
   "execution_count": null,
   "id": "02db7827",
   "metadata": {},
   "outputs": [],
   "source": []
  },
  {
   "cell_type": "markdown",
   "id": "0a577655",
   "metadata": {},
   "source": [
    "###  2. Calculate the average payment amount for each staff member:"
   ]
  },
  {
   "cell_type": "markdown",
   "id": "9484bcac",
   "metadata": {},
   "source": [
    "```sql\n",
    "-- Your code down below\n",
    "SELECT...\n",
    "```"
   ]
  },
  {
   "cell_type": "code",
   "execution_count": null,
   "id": "f771a17a",
   "metadata": {},
   "outputs": [],
   "source": []
  },
  {
   "cell_type": "markdown",
   "id": "b54831eb",
   "metadata": {},
   "source": [
    "### 3. Calculate the total revenue for each customer, showing the running total within each customer's rental history:"
   ]
  },
  {
   "cell_type": "markdown",
   "id": "6174383d",
   "metadata": {},
   "source": [
    "```sql\n",
    "-- Your code down below\n",
    "SELECT...\n",
    "```"
   ]
  },
  {
   "cell_type": "code",
   "execution_count": null,
   "id": "10a599d6",
   "metadata": {},
   "outputs": [],
   "source": []
  },
  {
   "cell_type": "markdown",
   "id": "5a8d3627",
   "metadata": {},
   "source": [
    "### 4. Determine the quartile for the rental rates of films:"
   ]
  },
  {
   "cell_type": "markdown",
   "id": "26676cff",
   "metadata": {},
   "source": [
    "```sql\n",
    "-- Your code down below\n",
    "SELECT...\n",
    "```"
   ]
  },
  {
   "cell_type": "code",
   "execution_count": null,
   "id": "d7de7ec6",
   "metadata": {},
   "outputs": [],
   "source": []
  },
  {
   "cell_type": "markdown",
   "id": "bc952a4d",
   "metadata": {},
   "source": [
    "### 5. Determine the first and last rental date for each customer:"
   ]
  },
  {
   "cell_type": "markdown",
   "id": "76d264d4",
   "metadata": {},
   "source": [
    "```sql\n",
    "-- Your code down below\n",
    "SELECT...\n",
    "```"
   ]
  },
  {
   "cell_type": "code",
   "execution_count": null,
   "id": "86b49020",
   "metadata": {},
   "outputs": [],
   "source": []
  },
  {
   "cell_type": "markdown",
   "id": "5a3ea58f",
   "metadata": {},
   "source": [
    "### 6. Calculate the rank of customers based on their rental counts:"
   ]
  },
  {
   "cell_type": "markdown",
   "id": "a6006aa7",
   "metadata": {},
   "source": [
    "```sql\n",
    "-- Your code down below\n",
    "SELECT...\n",
    "```"
   ]
  },
  {
   "cell_type": "code",
   "execution_count": null,
   "id": "360ce64d",
   "metadata": {},
   "outputs": [],
   "source": []
  },
  {
   "cell_type": "markdown",
   "id": "48d922e3",
   "metadata": {},
   "source": [
    "### 7. Calculate the running total of revenue per day for the 'G' film category:"
   ]
  },
  {
   "cell_type": "markdown",
   "id": "6f0d844a",
   "metadata": {},
   "source": [
    "```sql\n",
    "-- Your code down below\n",
    "SELECT...\n",
    "```"
   ]
  },
  {
   "cell_type": "code",
   "execution_count": null,
   "id": "fcddd103",
   "metadata": {},
   "outputs": [],
   "source": []
  },
  {
   "cell_type": "markdown",
   "id": "3b5c9a9b",
   "metadata": {},
   "source": [
    "### 8. Assign a unique ID to each payment within each customer's payment history:"
   ]
  },
  {
   "cell_type": "markdown",
   "id": "e0e17842",
   "metadata": {},
   "source": [
    "```sql\n",
    "-- Your code down below\n",
    "SELECT...\n",
    "```"
   ]
  },
  {
   "cell_type": "code",
   "execution_count": null,
   "id": "ad157784",
   "metadata": {},
   "outputs": [],
   "source": []
  },
  {
   "cell_type": "markdown",
   "id": "a92a965e",
   "metadata": {},
   "source": [
    "### 9. Calculate the difference in days between each rental and the previous rental for each customer:"
   ]
  },
  {
   "cell_type": "markdown",
   "id": "800eea92",
   "metadata": {},
   "source": [
    "```sql\n",
    "-- Your code down below\n",
    "SELECT...\n",
    "```"
   ]
  },
  {
   "cell_type": "code",
   "execution_count": null,
   "id": "efc84fa9",
   "metadata": {},
   "outputs": [],
   "source": []
  }
 ],
 "metadata": {
  "kernelspec": {
   "display_name": "Python 3 (ipykernel)",
   "language": "python",
   "name": "python3"
  },
  "language_info": {
   "codemirror_mode": {
    "name": "ipython",
    "version": 3
   },
   "file_extension": ".py",
   "mimetype": "text/x-python",
   "name": "python",
   "nbconvert_exporter": "python",
   "pygments_lexer": "ipython3",
   "version": "3.9.12"
  },
  "nbTranslate": {
   "displayLangs": [
    "en",
    "es"
   ],
   "hotkey": "alt-a",
   "langInMainMenu": true,
   "sourceLang": "es",
   "targetLang": "en",
   "useGoogleTranslate": true
  }
 },
 "nbformat": 4,
 "nbformat_minor": 5
}
